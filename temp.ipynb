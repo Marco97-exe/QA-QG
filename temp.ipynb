{
 "cells": [
  {
   "cell_type": "code",
   "execution_count": 1,
   "metadata": {},
   "outputs": [],
   "source": [
    "import pandas as pd \n",
    "import numpy as np \n",
    "\n",
    "import os \n",
    "import json\n",
    "\n",
    "# from flatten_json import flatten\n"
   ]
  },
  {
   "cell_type": "code",
   "execution_count": 2,
   "metadata": {},
   "outputs": [],
   "source": [
    "data_folder = os.path.join(os.getcwd(),\"data\") # directory containing the data\n",
    "\n",
    "dataset_path = os.path.join(data_folder,'training_set.json')"
   ]
  },
  {
   "cell_type": "code",
   "execution_count": 3,
   "metadata": {},
   "outputs": [],
   "source": [
    "\n",
    "record_path = ['data','paragraphs','qas','answers']\n",
    "json_file = json.loads(open(dataset_path).read())\n",
    "\n",
    "df = pd.json_normalize(json_file , record_path,meta=[[\"data\", \"title\"]])\n",
    "df_questions = pd.json_normalize(json_file, record_path[:-1],meta=[[\"data\", \"title\"]])\n",
    "df_contexts = pd.json_normalize(json_file,record_path[:-2],meta=[[\"data\", \"title\"]])\n",
    "\n",
    "contexts = np.repeat(df_contexts[\"context\"].values, df_contexts.qas.str.len())\n",
    "contexts = np.repeat(contexts, df_questions[\"answers\"].str.len())\n",
    "df[\"context\"] = contexts\n",
    "df[\"question_id\"] = np.repeat(df_questions[\"id\"].values, df_questions[\"answers\"].str.len())\n",
    "df[\"question\"] = np.repeat(df_questions[\"question\"].values, df_questions[\"answers\"].str.len())\n",
    "df[\"context_id\"] = df[\"context\"].factorize()[0]\n",
    "\n",
    "# Rename columns\n",
    "df.rename(columns={\"data.title\": \"title\", \"text\": \"answer\"}, inplace=True)\n",
    "\n"
   ]
  },
  {
   "cell_type": "code",
   "execution_count": 4,
   "metadata": {},
   "outputs": [
    {
     "data": {
      "text/html": [
       "<div>\n",
       "<style scoped>\n",
       "    .dataframe tbody tr th:only-of-type {\n",
       "        vertical-align: middle;\n",
       "    }\n",
       "\n",
       "    .dataframe tbody tr th {\n",
       "        vertical-align: top;\n",
       "    }\n",
       "\n",
       "    .dataframe thead th {\n",
       "        text-align: right;\n",
       "    }\n",
       "</style>\n",
       "<table border=\"1\" class=\"dataframe\">\n",
       "  <thead>\n",
       "    <tr style=\"text-align: right;\">\n",
       "      <th></th>\n",
       "      <th>answer_start</th>\n",
       "      <th>answer</th>\n",
       "      <th>title</th>\n",
       "      <th>context</th>\n",
       "      <th>question_id</th>\n",
       "      <th>question</th>\n",
       "      <th>context_id</th>\n",
       "    </tr>\n",
       "  </thead>\n",
       "  <tbody>\n",
       "    <tr>\n",
       "      <th>0</th>\n",
       "      <td>515</td>\n",
       "      <td>Saint Bernadette Soubirous</td>\n",
       "      <td>University_of_Notre_Dame</td>\n",
       "      <td>Architecturally, the school has a Catholic cha...</td>\n",
       "      <td>5733be284776f41900661182</td>\n",
       "      <td>To whom did the Virgin Mary allegedly appear i...</td>\n",
       "      <td>0</td>\n",
       "    </tr>\n",
       "    <tr>\n",
       "      <th>1</th>\n",
       "      <td>513</td>\n",
       "      <td>PROVA</td>\n",
       "      <td>University_of_Notre_Dame</td>\n",
       "      <td>Architecturally, the school has a Catholic cha...</td>\n",
       "      <td>5733be284776f41900661182</td>\n",
       "      <td>To whom did the Virgin Mary allegedly appear i...</td>\n",
       "      <td>0</td>\n",
       "    </tr>\n",
       "    <tr>\n",
       "      <th>2</th>\n",
       "      <td>188</td>\n",
       "      <td>a copper statue of Christ</td>\n",
       "      <td>University_of_Notre_Dame</td>\n",
       "      <td>Architecturally, the school has a Catholic cha...</td>\n",
       "      <td>5733be284776f4190066117f</td>\n",
       "      <td>What is in front of the Notre Dame Main Building?</td>\n",
       "      <td>0</td>\n",
       "    </tr>\n",
       "    <tr>\n",
       "      <th>3</th>\n",
       "      <td>279</td>\n",
       "      <td>the Main Building</td>\n",
       "      <td>University_of_Notre_Dame</td>\n",
       "      <td>Architecturally, the school has a Catholic cha...</td>\n",
       "      <td>5733be284776f41900661180</td>\n",
       "      <td>The Basilica of the Sacred heart at Notre Dame...</td>\n",
       "      <td>0</td>\n",
       "    </tr>\n",
       "    <tr>\n",
       "      <th>4</th>\n",
       "      <td>381</td>\n",
       "      <td>a Marian place of prayer and reflection</td>\n",
       "      <td>University_of_Notre_Dame</td>\n",
       "      <td>Architecturally, the school has a Catholic cha...</td>\n",
       "      <td>5733be284776f41900661181</td>\n",
       "      <td>What is the Grotto at Notre Dame?</td>\n",
       "      <td>0</td>\n",
       "    </tr>\n",
       "  </tbody>\n",
       "</table>\n",
       "</div>"
      ],
      "text/plain": [
       "   answer_start                                   answer  \\\n",
       "0           515               Saint Bernadette Soubirous   \n",
       "1           513                                    PROVA   \n",
       "2           188                a copper statue of Christ   \n",
       "3           279                        the Main Building   \n",
       "4           381  a Marian place of prayer and reflection   \n",
       "\n",
       "                      title  \\\n",
       "0  University_of_Notre_Dame   \n",
       "1  University_of_Notre_Dame   \n",
       "2  University_of_Notre_Dame   \n",
       "3  University_of_Notre_Dame   \n",
       "4  University_of_Notre_Dame   \n",
       "\n",
       "                                             context  \\\n",
       "0  Architecturally, the school has a Catholic cha...   \n",
       "1  Architecturally, the school has a Catholic cha...   \n",
       "2  Architecturally, the school has a Catholic cha...   \n",
       "3  Architecturally, the school has a Catholic cha...   \n",
       "4  Architecturally, the school has a Catholic cha...   \n",
       "\n",
       "                question_id  \\\n",
       "0  5733be284776f41900661182   \n",
       "1  5733be284776f41900661182   \n",
       "2  5733be284776f4190066117f   \n",
       "3  5733be284776f41900661180   \n",
       "4  5733be284776f41900661181   \n",
       "\n",
       "                                            question  context_id  \n",
       "0  To whom did the Virgin Mary allegedly appear i...           0  \n",
       "1  To whom did the Virgin Mary allegedly appear i...           0  \n",
       "2  What is in front of the Notre Dame Main Building?           0  \n",
       "3  The Basilica of the Sacred heart at Notre Dame...           0  \n",
       "4                  What is the Grotto at Notre Dame?           0  "
      ]
     },
     "execution_count": 4,
     "metadata": {},
     "output_type": "execute_result"
    }
   ],
   "source": [
    "df.head()"
   ]
  },
  {
   "cell_type": "code",
   "execution_count": 6,
   "metadata": {},
   "outputs": [
    {
     "data": {
      "text/html": [
       "<div>\n",
       "<style scoped>\n",
       "    .dataframe tbody tr th:only-of-type {\n",
       "        vertical-align: middle;\n",
       "    }\n",
       "\n",
       "    .dataframe tbody tr th {\n",
       "        vertical-align: top;\n",
       "    }\n",
       "\n",
       "    .dataframe thead th {\n",
       "        text-align: right;\n",
       "    }\n",
       "</style>\n",
       "<table border=\"1\" class=\"dataframe\">\n",
       "  <thead>\n",
       "    <tr style=\"text-align: right;\">\n",
       "      <th></th>\n",
       "      <th>answer_start</th>\n",
       "      <th>answer</th>\n",
       "      <th>title</th>\n",
       "      <th>context</th>\n",
       "      <th>question_id</th>\n",
       "      <th>question</th>\n",
       "      <th>context_id</th>\n",
       "    </tr>\n",
       "  </thead>\n",
       "  <tbody>\n",
       "    <tr>\n",
       "      <th>22</th>\n",
       "      <td>68</td>\n",
       "      <td>five</td>\n",
       "      <td>University_of_Notre_Dame</td>\n",
       "      <td>All of Notre Dame's undergraduate students are...</td>\n",
       "      <td>5733a70c4776f41900660f62</td>\n",
       "      <td>How many colleges for undergraduates are at No...</td>\n",
       "      <td>4</td>\n",
       "    </tr>\n",
       "    <tr>\n",
       "      <th>83</th>\n",
       "      <td>368</td>\n",
       "      <td>14</td>\n",
       "      <td>University_of_Notre_Dame</td>\n",
       "      <td>About 80% of undergraduates and 20% of graduat...</td>\n",
       "      <td>5733b699d058e614000b611c</td>\n",
       "      <td>There are how many dorms for females at Notre ...</td>\n",
       "      <td>16</td>\n",
       "    </tr>\n",
       "    <tr>\n",
       "      <th>103</th>\n",
       "      <td>274</td>\n",
       "      <td>three</td>\n",
       "      <td>University_of_Notre_Dame</td>\n",
       "      <td>One of the main driving forces in the growth o...</td>\n",
       "      <td>573387acd058e614000b5cb4</td>\n",
       "      <td>How many national titles were won when Knute R...</td>\n",
       "      <td>20</td>\n",
       "    </tr>\n",
       "    <tr>\n",
       "      <th>110</th>\n",
       "      <td>11</td>\n",
       "      <td>Father John Francis O'Hara</td>\n",
       "      <td>University_of_Notre_Dame</td>\n",
       "      <td>Holy Cross Father John Francis O'Hara was elec...</td>\n",
       "      <td>57338a51d058e614000b5cf1</td>\n",
       "      <td>Who was the president of Notre Dame in 1934?</td>\n",
       "      <td>22</td>\n",
       "    </tr>\n",
       "    <tr>\n",
       "      <th>145</th>\n",
       "      <td>73</td>\n",
       "      <td>1950</td>\n",
       "      <td>University_of_Notre_Dame</td>\n",
       "      <td>A Science Hall was built in 1883 under the dir...</td>\n",
       "      <td>573398ebd058e614000b5e67</td>\n",
       "      <td>In what year did the student union building at...</td>\n",
       "      <td>29</td>\n",
       "    </tr>\n",
       "    <tr>\n",
       "      <th>...</th>\n",
       "      <td>...</td>\n",
       "      <td>...</td>\n",
       "      <td>...</td>\n",
       "      <td>...</td>\n",
       "      <td>...</td>\n",
       "      <td>...</td>\n",
       "      <td>...</td>\n",
       "    </tr>\n",
       "    <tr>\n",
       "      <th>87591</th>\n",
       "      <td>134</td>\n",
       "      <td>6</td>\n",
       "      <td>Kathmandu</td>\n",
       "      <td>The main international airport serving Kathman...</td>\n",
       "      <td>5735d1a86c16ec1900b92832</td>\n",
       "      <td>Starting in the center of Kathmandu, how many ...</td>\n",
       "      <td>18889</td>\n",
       "    </tr>\n",
       "    <tr>\n",
       "      <th>87592</th>\n",
       "      <td>297</td>\n",
       "      <td>22</td>\n",
       "      <td>Kathmandu</td>\n",
       "      <td>The main international airport serving Kathman...</td>\n",
       "      <td>5735d1a86c16ec1900b92833</td>\n",
       "      <td>How many airlines use Tribhuvan International ...</td>\n",
       "      <td>18889</td>\n",
       "    </tr>\n",
       "    <tr>\n",
       "      <th>87593</th>\n",
       "      <td>698</td>\n",
       "      <td>Amsterdam</td>\n",
       "      <td>Kathmandu</td>\n",
       "      <td>The main international airport serving Kathman...</td>\n",
       "      <td>5735d1a86c16ec1900b92834</td>\n",
       "      <td>From what city does Arkefly offer nonstop flig...</td>\n",
       "      <td>18889</td>\n",
       "    </tr>\n",
       "    <tr>\n",
       "      <th>87596</th>\n",
       "      <td>414</td>\n",
       "      <td>Rangoon</td>\n",
       "      <td>Kathmandu</td>\n",
       "      <td>Kathmandu Metropolitan City (KMC), in order to...</td>\n",
       "      <td>5735d259012e2f140011a09e</td>\n",
       "      <td>What was Yangon previously known as?</td>\n",
       "      <td>18890</td>\n",
       "    </tr>\n",
       "    <tr>\n",
       "      <th>87598</th>\n",
       "      <td>199</td>\n",
       "      <td>1975</td>\n",
       "      <td>Kathmandu</td>\n",
       "      <td>Kathmandu Metropolitan City (KMC), in order to...</td>\n",
       "      <td>5735d259012e2f140011a0a0</td>\n",
       "      <td>In what year did Kathmandu create its initial ...</td>\n",
       "      <td>18890</td>\n",
       "    </tr>\n",
       "  </tbody>\n",
       "</table>\n",
       "<p>22465 rows × 7 columns</p>\n",
       "</div>"
      ],
      "text/plain": [
       "       answer_start                      answer                     title  \\\n",
       "22               68                        five  University_of_Notre_Dame   \n",
       "83              368                          14  University_of_Notre_Dame   \n",
       "103             274                       three  University_of_Notre_Dame   \n",
       "110              11  Father John Francis O'Hara  University_of_Notre_Dame   \n",
       "145              73                        1950  University_of_Notre_Dame   \n",
       "...             ...                         ...                       ...   \n",
       "87591           134                           6                 Kathmandu   \n",
       "87592           297                          22                 Kathmandu   \n",
       "87593           698                   Amsterdam                 Kathmandu   \n",
       "87596           414                     Rangoon                 Kathmandu   \n",
       "87598           199                        1975                 Kathmandu   \n",
       "\n",
       "                                                 context  \\\n",
       "22     All of Notre Dame's undergraduate students are...   \n",
       "83     About 80% of undergraduates and 20% of graduat...   \n",
       "103    One of the main driving forces in the growth o...   \n",
       "110    Holy Cross Father John Francis O'Hara was elec...   \n",
       "145    A Science Hall was built in 1883 under the dir...   \n",
       "...                                                  ...   \n",
       "87591  The main international airport serving Kathman...   \n",
       "87592  The main international airport serving Kathman...   \n",
       "87593  The main international airport serving Kathman...   \n",
       "87596  Kathmandu Metropolitan City (KMC), in order to...   \n",
       "87598  Kathmandu Metropolitan City (KMC), in order to...   \n",
       "\n",
       "                    question_id  \\\n",
       "22     5733a70c4776f41900660f62   \n",
       "83     5733b699d058e614000b611c   \n",
       "103    573387acd058e614000b5cb4   \n",
       "110    57338a51d058e614000b5cf1   \n",
       "145    573398ebd058e614000b5e67   \n",
       "...                         ...   \n",
       "87591  5735d1a86c16ec1900b92832   \n",
       "87592  5735d1a86c16ec1900b92833   \n",
       "87593  5735d1a86c16ec1900b92834   \n",
       "87596  5735d259012e2f140011a09e   \n",
       "87598  5735d259012e2f140011a0a0   \n",
       "\n",
       "                                                question  context_id  \n",
       "22     How many colleges for undergraduates are at No...           4  \n",
       "83     There are how many dorms for females at Notre ...          16  \n",
       "103    How many national titles were won when Knute R...          20  \n",
       "110         Who was the president of Notre Dame in 1934?          22  \n",
       "145    In what year did the student union building at...          29  \n",
       "...                                                  ...         ...  \n",
       "87591  Starting in the center of Kathmandu, how many ...       18889  \n",
       "87592  How many airlines use Tribhuvan International ...       18889  \n",
       "87593  From what city does Arkefly offer nonstop flig...       18889  \n",
       "87596               What was Yangon previously known as?       18890  \n",
       "87598  In what year did Kathmandu create its initial ...       18890  \n",
       "\n",
       "[22465 rows x 7 columns]"
      ]
     },
     "execution_count": 6,
     "metadata": {},
     "output_type": "execute_result"
    }
   ],
   "source": [
    "df[df['answer'].duplicated()==True]"
   ]
  },
  {
   "cell_type": "code",
   "execution_count": 10,
   "metadata": {},
   "outputs": [
    {
     "data": {
      "text/plain": [
       "False"
      ]
     },
     "execution_count": 10,
     "metadata": {},
     "output_type": "execute_result"
    }
   ],
   "source": [
    "any(df.duplicated())"
   ]
  },
  {
   "cell_type": "code",
   "execution_count": 11,
   "metadata": {},
   "outputs": [],
   "source": [
    "df2 = df.drop_duplicates()"
   ]
  },
  {
   "cell_type": "code",
   "execution_count": 12,
   "metadata": {},
   "outputs": [
    {
     "data": {
      "text/plain": [
       "True"
      ]
     },
     "execution_count": 12,
     "metadata": {},
     "output_type": "execute_result"
    }
   ],
   "source": [
    "df2.equals(df)"
   ]
  },
  {
   "cell_type": "code",
   "execution_count": null,
   "metadata": {},
   "outputs": [],
   "source": [
    "json_file = json.loads(open(dataset_path).read())"
   ]
  },
  {
   "cell_type": "code",
   "execution_count": null,
   "metadata": {},
   "outputs": [],
   "source": [
    "df = pd.json_normalize(json_file,record_path=['data','paragraphs'],meta=[['data','title']])"
   ]
  },
  {
   "cell_type": "code",
   "execution_count": null,
   "metadata": {},
   "outputs": [],
   "source": []
  },
  {
   "cell_type": "code",
   "execution_count": null,
   "metadata": {},
   "outputs": [],
   "source": [
    "f = (flatten(record) for record in json_file['data'])"
   ]
  },
  {
   "cell_type": "code",
   "execution_count": null,
   "metadata": {},
   "outputs": [],
   "source": [
    "df = pd.DataFrame(f)"
   ]
  },
  {
   "cell_type": "code",
   "execution_count": null,
   "metadata": {},
   "outputs": [],
   "source": [
    "type(df.head())"
   ]
  },
  {
   "cell_type": "code",
   "execution_count": null,
   "metadata": {},
   "outputs": [],
   "source": [
    "csv_path = os.path.join(data_folder,'dataframe.csv')\n",
    "df.head(1).to_csv(csv_path)"
   ]
  },
  {
   "cell_type": "code",
   "execution_count": null,
   "metadata": {},
   "outputs": [],
   "source": [
    "df.head(1)"
   ]
  },
  {
   "cell_type": "code",
   "execution_count": null,
   "metadata": {},
   "outputs": [],
   "source": [
    "df.iloc[0].to_list()"
   ]
  },
  {
   "cell_type": "code",
   "execution_count": null,
   "metadata": {},
   "outputs": [],
   "source": [
    "df.iloc[0]"
   ]
  }
 ],
 "metadata": {
  "interpreter": {
   "hash": "9d27d3bb0e70e29a6993d11ced729f39970904d8c590c3a159e115fe96c0c042"
  },
  "kernelspec": {
   "display_name": "Python 3.9.7 64-bit ('squad': conda)",
   "language": "python",
   "name": "python3"
  },
  "language_info": {
   "codemirror_mode": {
    "name": "ipython",
    "version": 3
   },
   "file_extension": ".py",
   "mimetype": "text/x-python",
   "name": "python",
   "nbconvert_exporter": "python",
   "pygments_lexer": "ipython3",
   "version": "3.9.7"
  },
  "orig_nbformat": 4
 },
 "nbformat": 4,
 "nbformat_minor": 2
}
