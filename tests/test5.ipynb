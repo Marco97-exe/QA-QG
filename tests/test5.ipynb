{
 "cells": [
  {
   "cell_type": "code",
   "execution_count": null,
   "metadata": {},
   "outputs": [],
   "source": [
    "from IPython.core.interactiveshell import InteractiveShell\n",
    "InteractiveShell.ast_node_interactivity = 'all'"
   ]
  },
  {
   "cell_type": "code",
   "execution_count": null,
   "metadata": {},
   "outputs": [],
   "source": [
    "import os \n",
    "import torch \n",
    "from torch import nn\n",
    "import torch.nn.functional as F\n",
    "\n",
    "import numpy as np \n",
    "\n",
    "import src.utils as utils \n",
    "import src.globals as globals\n",
    "import src.data_handler as handling\n",
    "\n",
    "from datasets import Dataset \n",
    "\n",
    "from tokenizers import BertWordPieceTokenizer\n"
   ]
  },
  {
   "cell_type": "code",
   "execution_count": null,
   "metadata": {},
   "outputs": [],
   "source": [
    "dataset_path = os.path.join(globals.DATA_FOLDER,'training_set.json')"
   ]
  },
  {
   "cell_type": "code",
   "execution_count": null,
   "metadata": {},
   "outputs": [],
   "source": [
    "model, vocab = utils.load_embedding_model()"
   ]
  },
  {
   "cell_type": "code",
   "execution_count": null,
   "metadata": {},
   "outputs": [],
   "source": [
    "for e in vocab :\n",
    "    if vocab[e]==1012 :\n",
    "        print(e)\n",
    "\n",
    "vocab['include']"
   ]
  },
  {
   "cell_type": "code",
   "execution_count": null,
   "metadata": {},
   "outputs": [],
   "source": [
    "squad_dataset = handling.RawSquadDataset(dataset_path)\n",
    "\n",
    "df = squad_dataset.train_df.copy()"
   ]
  },
  {
   "cell_type": "code",
   "execution_count": null,
   "metadata": {},
   "outputs": [],
   "source": [
    "l = df['context'].apply(len).to_list()\n",
    "\n",
    "m = np.mean(l)\n",
    "m"
   ]
  },
  {
   "cell_type": "code",
   "execution_count": null,
   "metadata": {},
   "outputs": [],
   "source": [
    "df"
   ]
  },
  {
   "cell_type": "code",
   "execution_count": null,
   "metadata": {},
   "outputs": [],
   "source": [
    "s1 = \"The sky is usually clear above the desert and the sunshine duration is extremely high everywhere in the Sahara. Most of the desert enjoys more than 3,600 h of bright sunshine annually or over 82% of the time and a wide area in the eastern part experiences in excess of 4,000 h of bright sunshine a year or over 91% of the time, and the highest values are very close to the theoretical maximum value. A value of 4,300 h or 98% of the time would be recorded in Upper Egypt (Aswan, Luxor) and in the Nubian Desert (Wadi Halfa). The annual average direct solar irradiation is around 2,800 kWh/(m2 year) in the Great Desert. The Sahara has a huge potential for solar energy production. The constantly high position of the sun, the extremely low relative humidity, the lack of vegetation and rainfall make the Great Desert the hottest continuously large area worldwide and certainly the hottest place on Earth during summertime in some spots. The average high temperature exceeds 38 °C (100.4 °F) - 40 °C (104 °F) during the hottest month nearly everywhere in the desert except at very high mountainous areas. The highest officially recorded average high temperature was 47 °C (116.6 °F) in a remote desert town in the Algerian Desert called Bou Bernous with an elevation of 378 meters above sea level. It's the world's highest recorded average high temperature and only Death Valley, California rivals it. Other hot spots in Algeria such as Adrar, Timimoun, In Salah, Ouallene, Aoulef, Reggane with an elevation between 200 and 400 meters above sea level get slightly lower summer average highs around 46 °C (114.8 °F) during the hottest months of the year. Salah, well known in Algeria for its extreme heat, has an average high temperature of 43.8 °C (110.8 °F), 46.4 °C (115.5 °F), 45.5 (113.9 °F). Furthermore, 41.9 °C (107.4 °F) in June, July, August and September. In fact, there are even hotter spots in the Sahara, but they are located in extremely remote areas, especially in the Azalai, lying in northern Mali. The major part of the desert experiences around 3 – 5 months when the average high strictly exceeds 40 °C (104 °F). The southern central part of the desert experiences up to 6 – 7 months when the average high temperature strictly exceeds 40 °C (104 °F) which shows the constancy and the length of the really hot season in the Sahara. Some examples of this are Bilma, Niger and Faya-Largeau, Chad. The annual average daily temperature exceeds 20 °C (68 °F) everywhere and can approach 30 °C (86 °F) in the hottest regions year-round. However, most of the desert has a value in excess of 25 °C (77 °F). The sand and ground temperatures are even more extreme. During daytime, the sand temperature is extremely high as it can easily reach 80 °C (176 °F) or more. A sand temperature of 83.5 °C (182.3 °F) has been recorded in Port Sudan. Ground temperatures of 72 °C (161.6 °F) have been recorded in the Adrar of Mauritania and a value of 75 °C (167 °F) has been measured in Borkou, northern Chad. Due to lack of cloud cover and very low humidity, the desert usually features high diurnal temperature variations between days and nights. However, it's a myth that the nights are cold after extremely hot days in the Sahara. The average diurnal temperature range is typically between 13 °C (55.4 °F) and 20 °C (68 °F). The lowest values are found along the coastal regions due to high humidity and are often even lower than 10 °C (50 °F), while the highest values are found in inland desert areas where the humidity is the lowest, mainly in the southern Sahara. Still, it's true that winter nights can be cold as it can drop to the freezing point and even below, especially in high-elevation areas. \"\n",
    "s2 = \"The sky is usually clear above the desert and the sunshine duration is extremely high everywhere in the Sahara. Most of the desert enjoys more than 3,600 h of bright sunshine annually or over 82% of the time and a wide area in the eastern part experiences in excess of 4,000 h of bright sunshine a year or over 91% of the time, and the highest values are very close to the theoretical maximum value. A value of 4,300 h or 98% of the time would be recorded in Upper Egypt (Aswan, Luxor) and in the Nubian Desert (Wadi Halfa). The annual average direct solar irradiation is around 2,800 kWh/(m2 year) in the Great Desert. The Sahara has a huge potential for solar energy production. The constantly high position of the sun, the extremely low relative humidity, the lack of vegetation and rainfall make the Great Desert the hottest continuously large area worldwide and certainly the hottest place on Earth during summertime in some spots. The average high temperature exceeds 38 °C (100.4 °F) - 40 °C (104 °F) during the hottest month nearly everywhere in the desert except at very high mountainous areas. The highest officially recorded average high temperature was 47 °C (116.6 °F) in a remote desert town in the Algerian Desert called Bou Bernous with an elevation of 378 meters above sea level. It's the world's highest recorded average high temperature and only Death Valley, California rivals it. Other hot spots in Algeria such as Adrar, Timimoun, In Salah, Ouallene, Aoulef, Reggane with an elevation between 200 and 400 meters above sea level get slightly lower summer average highs around 46 °C (114.8 °F) during the hottest months of the year. Salah, well known in Algeria for its extreme heat, has an average high temperature of 43.8 °C (110.8 °F), 46.4 °C (115.5 °F), 45.5 (113.9 °F). Furthermore, 41.9 °C (107.4 °F) in June, July, August and September. In fact, there are even hotter spots in the Sahara, but they are located in extremely remote areas, especially in the Azalai, lying in northern Mali. The major part of the desert experiences around 3 – 5 months when the average high strictly exceeds 40 °C (104 °F). The southern central part of the desert experiences up to 6 – 7 months when the average high temperature strictly exceeds 40 °C (104 °F) which shows the constancy and the length of the really hot season in the Sahara. Some examples of this are Bilma, Niger and Faya-Largeau, Chad. The annual average daily temperature exceeds 20 °C (68 °F) everywhere and can approach 30 °C (86 °F) in the hottest regions year-round. However, most of the desert has a value in excess of 25 °C (77 °F). The sand and ground temperatures are even more extreme. During daytime, the sand temperature is extremely high as it can easily reach 80 °C (176 °F) or more. A sand temperature of 83.5 °C (182.3 °F) has been recorded in Port Sudan. Ground temperatures of 72 °C (161.6 °F) have been recorded in the Adrar of Mauritania and a value of 75 °C (167 °F) has been measured in Borkou, northern Chad. Due to lack of cloud cover and very low humidity, the desert usually features high diurnal temperature variations between days and nights. However, it's a myth that the nights are cold after extremely hot days in the Sahara. The average diurnal temperature range is typically between 13 °C (55.4 °F) and 20 °C (68 °F). The lowest values are found along the coastal regions due to high humidity and are often even lower than 10 °C (50 °F), while the highest values are found in inland desert areas where the humidity is the lowest, mainly in the southern Sahara. Still, it's true that winter nights can be cold as it can drop to the freezing point and even below, especially in high-elevation areas.\"\n",
    "s3 = \"The sky is usually clear above the desert and the sunshine duration is extremely high everywhere in the Sahara. Most of the desert enjoys more than 3,600 h of bright sunshine annually or over 82% of the time and a wide area in the eastern part experiences in excess of 4,000 h of bright sunshine a year or over 91% of the time, and the highest values are very close to the theoretical maximum value. A value of 4,300 h or 98% of the time would be recorded in Upper Egypt (Aswan, Luxor) and in the Nubian Desert (Wadi Halfa). The annual average direct solar irradiation is around 2,800 kWh/(m2 year) in the Great Desert. The Sahara has a huge potential for solar energy production. The constantly high position of the sun, the extremely low relative humidity, the lack of vegetation and rainfall make the Great Desert the hottest continuously large area worldwide and certainly the hottest place on Earth during summertime in some spots. The average high temperature exceeds 38 °C (100.4 °F) - 40 °C (104 °F) during the hottest month nearly everywhere in the desert except at very high mountainous areas. The highest officially recorded average high temperature was 47 °C (116.6 °F) in a remote desert town in the Algerian Desert called Bou Bernous with an elevation of 378 meters above sea level. It's the world's highest recorded average high temperature and only Death Valley, California rivals it. Other hot spots in Algeria such as Adrar, Timimoun, In Salah, Ouallene, Aoulef, Reggane with an elevation between 200 and 400 meters above sea level get slightly lower summer average highs around 46 °C (114.8 °F) during the hottest months of the year. Salah, well known in Algeria for its extreme heat, has an average high temperature of 43.8 °C (110.8 °F), 46.4 °C (115.5 °F), 45.5 (113.9 °F). Furthermore, 41.9 °C (107.4 °F) in June, July, August and September. In fact, there are even hotter spots in the Sahara, but they are located in extremely remote areas, especially in the Azalai, lying in northern Mali. The major part of the desert experiences around 3 – 5 months when the average high strictly exceeds 40 °C (104 °F). The southern central part of the desert experiences up to 6 – 7 months when the average high temperature strictly exceeds 40 °C (104 °F) which shows the constancy and the length of the really hot season in the Sahara. Some examples of this are Bilma, Niger and Faya-Largeau, Chad. The annual average daily temperature exceeds 20 °C (68 °F) everywhere and can approach 30 °C (86 °F) in the hottest regions year-round. However, most of the desert has a value in excess of 25 °C (77 °F). The sand and ground temperatures are even more extreme. During daytime, the sand temperature is extremely high as it can easily reach 80 °C (176 °F) or more. A sand temperature of 83.5 °C (182.3 °F) has been recorded in Port Sudan. Ground temperatures of 72 °C (161.6 °F) have been recorded in the Adrar of Mauritania and a value of 75 °C (167 °F) has been measured in Borkou, northern Chad. Due to lack of cloud cover and very low humidity, the desert usually features high diurnal temperature variations between days and nights. However, it's a myth that the nights are cold after extremely hot days in the Sahara. The average diurnal temperature range is typically between 13 °C (55.4 °F) and 20 °C (68 °F). The lowest values are found along the coastal regions due to high humidity and are often even lower than 10 °C (50 °F), while the highest values are found in inland desert areas where the humidity is the lowest, mainly in the southern Sahara. Still, it's true that winter nights can be cold as it can drop to the freezing point and even below, especially in high-elevation areas.\"\n",
    "q = 'my question my question my question my question'\n",
    "df_custom = {'context_id':18890,'question_id':'il_mio_custom','title':'inventato','context':s1+s2+s3,'question':q,'answer':'risposta mia','label_char':(10421,10435)}\n",
    "\n",
    "df = df.append(df_custom,ignore_index=True)"
   ]
  },
  {
   "cell_type": "code",
   "execution_count": null,
   "metadata": {},
   "outputs": [],
   "source": [
    "df"
   ]
  },
  {
   "cell_type": "code",
   "execution_count": null,
   "metadata": {},
   "outputs": [],
   "source": [
    "\n",
    "hf_dataset = Dataset.from_pandas(df)"
   ]
  },
  {
   "cell_type": "code",
   "execution_count": null,
   "metadata": {},
   "outputs": [],
   "source": [
    "vocab_path = os.path.join(globals.DATA_FOLDER,'bert-base-uncased-vocab.txt')"
   ]
  },
  {
   "cell_type": "code",
   "execution_count": null,
   "metadata": {},
   "outputs": [],
   "source": [
    "wp_tokenizer = BertWordPieceTokenizer(vocab_path, lowercase=True)\n",
    "wp_tokenizer.enable_padding(direction=\"right\", pad_type_id=1)\n",
    "wp_tokenizer.enable_truncation(512,strategy='only_second',stride = 25)"
   ]
  },
  {
   "cell_type": "code",
   "execution_count": null,
   "metadata": {},
   "outputs": [],
   "source": [
    "from tokenizers import Encoding\n",
    "\n",
    "def transform(batch):\n",
    "\n",
    "    encodings: list[Encoding] = wp_tokenizer.encode_batch(list(zip(batch['question'],batch['context'])))\n",
    "\n",
    "    starts = list(map(lambda x: x[0],batch['label_char']))\n",
    "    ends = list(map(lambda x: x[1],batch['label_char']))\n",
    "\n",
    "    out = []\n",
    "    replaced = []\n",
    "    not_replaced = []\n",
    "    for i,e in enumerate(encodings) :\n",
    "        if e.char_to_token(starts[i],1) is None or e.char_to_token(ends[i]-1,1) is None :\n",
    "            out.append(i)\n",
    "            flag = 0\n",
    "            for k,o in enumerate(e.overflowing) :\n",
    "                if o.char_to_token(starts[i],1) is not None and o.char_to_token(ends[i]-1,1) is not None :\n",
    "                    encodings[i] = o\n",
    "                    replaced.append(k)\n",
    "                    flag = 1\n",
    "                    break\n",
    "            if flag==0 :\n",
    "                not_replaced.append(i)\n",
    "    \n",
    "    for idx in not_replaced:\n",
    "        encodings.pop(idx)\n",
    "        starts.pop(idx)\n",
    "        ends.pop(idx)\n",
    "        batch['context'].pop(idx)\n",
    "        batch['answer'].pop(idx)\n",
    "\n",
    "\n",
    "    # for i, (s_t, e_t) in enumerate(zip(token_start,token_end)):\n",
    "    #     if (s_t is None) or (e_t is None):\n",
    "    #         for e in \n",
    "\n",
    "\n",
    "    encodings = {\n",
    "        'ids': [e.ids for e in encodings],\n",
    "        'overflowing': [e.overflowing for e in encodings],\n",
    "        'special_tokens_mask': [e.special_tokens_mask for e in encodings],\n",
    "        #'mask': [e.attention_mask for e in encodings],\n",
    "        'offsets': [e.offsets for e in encodings], \n",
    "        #'sequence_ids': [e.sequence_ids for e in encodings],\n",
    "        'type_ids': [e.type_ids for e in encodings],\n",
    "        'tokens':[e.tokens for e in encodings],\n",
    "        'label_token_start': [e.char_to_token(starts[i],1) for i,e in enumerate(encodings)],\n",
    "        'label_token_end': [e.char_to_token(ends[i]-1,1) for i,e in enumerate(encodings)],\n",
    "        'context_text': batch['context'],\n",
    "        'question_text': batch['question'],\n",
    "        'answer_text': batch['answer'],\n",
    "        'char_start' : starts,\n",
    "        'char_end': ends,\n",
    "        # 'out': out,\n",
    "        # 'replaced' : replaced,\n",
    "        # 'not_replaced' : not_replaced\n",
    "    }\n",
    "\n",
    "    return encodings\n",
    "\n",
    "hf_dataset.set_transform(transform,output_all_columns=False)"
   ]
  },
  {
   "cell_type": "code",
   "execution_count": null,
   "metadata": {},
   "outputs": [],
   "source": [
    "encodings: list[Encoding] = wp_tokenizer.encode_batch(list(zip(df['question'],df['context'])))\n",
    "\n",
    "starts = list(map(lambda x: x[0],df['label_char']))\n",
    "ends = list(map(lambda x: x[1],df['label_char']))\n",
    "\n",
    "answer_not_in_first_512 = []\n",
    "replaced = []\n",
    "not_replaced = []\n",
    "for i,e in enumerate(encodings) :\n",
    "    if e.char_to_token(starts[i],1) is None or e.char_to_token(ends[i]-1,1) is None :\n",
    "        answer_not_in_first_512.append(i)\n",
    "        flag = 0\n",
    "        for k,o in enumerate(e.overflowing) :\n",
    "            if o.char_to_token(starts[i],1) is not None and o.char_to_token(ends[i]-1,1) is not None :\n",
    "                encodings[i] = o\n",
    "                replaced.append(k)\n",
    "                flag = 1\n",
    "                break\n",
    "        if flag==0 :\n",
    "            not_replaced.append(i)\n",
    "\n",
    "for idx in not_replaced:\n",
    "    encodings.pop(idx)\n",
    "    starts.pop(idx)\n",
    "    ends.pop(idx)\n",
    "    df['context'].pop(idx)\n",
    "    df['answer'].pop(idx)"
   ]
  },
  {
   "cell_type": "code",
   "execution_count": null,
   "metadata": {},
   "outputs": [],
   "source": [
    "row_errors = []\n",
    "for idx in range(df.shape[0]):\n",
    "\n",
    "    ex = hf_dataset[idx]\n",
    "\n",
    "    offsets = np.array(ex['offsets'])[np.array(ex['type_ids'], dtype=bool)]\n",
    "\n",
    "    start_token = ex['label_token_start']\n",
    "    end_token = ex['label_token_end']\n",
    "    start_char = ex['offsets'][start_token][0]\n",
    "    end_char = ex['offsets'][end_token][1]\n",
    "\n",
    "    start_c = ex['char_start']\n",
    "    end_c = ex['char_end']\n",
    "\n",
    "    if ex['context_text'][start_char:end_char] == ex['answer_text']:\n",
    "        pass\n",
    "    else:\n",
    "        row_errors.append(\"DIFFERENT: \" + str(idx))\n",
    "\n",
    "    starts, ends = zip(*offsets)\n",
    "\n",
    "    try :\n",
    "        start_idx = starts.index(start_c)\n",
    "    except :\n",
    "        row_errors.append(\"NO start: \" + str(idx))\n",
    "\n",
    "    try: \n",
    "        end_idx = ends.index(end_c)\n",
    "    except :\n",
    "        row_errors.append(\"NO end: \" + str(idx))\n",
    "\n",
    "print(row_errors)"
   ]
  },
  {
   "cell_type": "code",
   "execution_count": null,
   "metadata": {},
   "outputs": [],
   "source": [
    "answer_not_in_first_512"
   ]
  },
  {
   "cell_type": "code",
   "execution_count": null,
   "metadata": {},
   "outputs": [],
   "source": [
    "print(hf_dataset[50763, 50764])\n"
   ]
  },
  {
   "cell_type": "code",
   "execution_count": null,
   "metadata": {},
   "outputs": [],
   "source": [
    "print(np.array(hf_dataset[6735]['offsets'])[np.array(hf_dataset[6735]['type_ids'], dtype=bool)])"
   ]
  },
  {
   "cell_type": "code",
   "execution_count": null,
   "metadata": {},
   "outputs": [],
   "source": [
    "np.where(hf_dataset[6735]['type_ids'], hf_dataset[6735]['offsets'], (-1,-1))"
   ]
  },
  {
   "cell_type": "code",
   "execution_count": null,
   "metadata": {},
   "outputs": [],
   "source": [
    "print(hf_dataset[6735])"
   ]
  },
  {
   "cell_type": "markdown",
   "metadata": {},
   "source": [
    "### oooooooooooooooooooooooooooooooooooooooooooooooooooooooooooooooooo"
   ]
  },
  {
   "cell_type": "code",
   "execution_count": null,
   "metadata": {},
   "outputs": [],
   "source": [
    "a = hf_dataset[0:6]['type_ids'] & ~hf_dataset[0:6]['special_tokens_mask']"
   ]
  },
  {
   "cell_type": "code",
   "execution_count": null,
   "metadata": {},
   "outputs": [],
   "source": [
    "x_type_ids = torch.tensor([[0,0,0,0,1,1,1,1,1],[0,0,0,1,1,1,1,1,1]])\n",
    "y_special_t= torch.tensor([[1,0,0,1,0,0,0,1,1],[1,0,1,0,0,0,0,0,1]])\n",
    "\n",
    "b = x_type_ids & ~y_special_t\n",
    "c = torch.tensor([[5.0,7,3,6,1,0,4,7,8],[2,5,3,8,9,0,3,6,8]])\n",
    "c.masked_fill(b==0,float(\"-inf\"))"
   ]
  },
  {
   "cell_type": "code",
   "execution_count": null,
   "metadata": {},
   "outputs": [],
   "source": [
    "# print(hf_dataset[87599]['offsets'])\n",
    "enc = hf_dataset[87599]['overflowing']\n",
    "\n",
    "for i,e in enumerate(enc) :\n",
    "    print(i+1,':', e.offsets)"
   ]
  },
  {
   "cell_type": "code",
   "execution_count": null,
   "metadata": {},
   "outputs": [],
   "source": [
    "c_s = hf_dataset[60023]['context_text'].find('Still')\n",
    "c_e = hf_dataset[60023]['context_text'].find('winter')"
   ]
  },
  {
   "cell_type": "code",
   "execution_count": null,
   "metadata": {},
   "outputs": [],
   "source": [
    "print(hf_dataset[60023]['overflowing'])"
   ]
  },
  {
   "cell_type": "code",
   "execution_count": null,
   "metadata": {},
   "outputs": [],
   "source": [
    "e = hf_dataset[60023]['overflowing'][0]\n",
    "\n",
    "t_s = e.char_to_token(c_s,2)\n",
    "t_e = e.char_to_token(c_e,2)\n",
    "\n",
    "offsets = e.offsets"
   ]
  },
  {
   "cell_type": "code",
   "execution_count": null,
   "metadata": {},
   "outputs": [],
   "source": [
    "c_s_p = offsets[t_s][0]\n",
    "c_e_p = offsets[t_e][1]\n",
    "\n",
    "hf_dataset[60023]['context_text'][c_s_p:c_e_p]"
   ]
  },
  {
   "cell_type": "code",
   "execution_count": null,
   "metadata": {},
   "outputs": [],
   "source": [
    "e.overflowing"
   ]
  },
  {
   "cell_type": "code",
   "execution_count": null,
   "metadata": {},
   "outputs": [],
   "source": [
    "[hf_dataset[60022]['tokens'].index('##urn')]\n",
    "# print(hf_dataset[60023,60022]['context_text'])"
   ]
  },
  {
   "cell_type": "code",
   "execution_count": null,
   "metadata": {},
   "outputs": [],
   "source": [
    "ex = hf_dataset[60022]\n",
    "index = ex['tokens'].index('worldwide')\n",
    "s= ex['offsets'][index][0]\n",
    "e= ex['offsets'][index][1]\n",
    "ex['context_text'][s:e]\n",
    "\n"
   ]
  },
  {
   "cell_type": "code",
   "execution_count": null,
   "metadata": {},
   "outputs": [],
   "source": [
    "ex = hf_dataset[57912]\n",
    "start_token = ex['label_token_start']\n",
    "end_token = ex['label_token_end']\n",
    "start_char = ex['offsets'][start_token][0]\n",
    "end_char = ex['offsets'][end_token][1]\n",
    "\n",
    "print(start_char)\n",
    "print(end_char)\n",
    "\n",
    "ex['context_text'][start_char:end_char]\n",
    "ex['context_text'][ex['char_start']:ex['char_end']]\n",
    "ex['answer_text']\n",
    "\n",
    "len(ex['context_ids']) == len(ex['context_tokens'])\n"
   ]
  },
  {
   "cell_type": "code",
   "execution_count": null,
   "metadata": {},
   "outputs": [],
   "source": [
    "utils.get_run_id()"
   ]
  },
  {
   "cell_type": "code",
   "execution_count": null,
   "metadata": {},
   "outputs": [],
   "source": [
    "utils.printa()"
   ]
  },
  {
   "cell_type": "code",
   "execution_count": null,
   "metadata": {},
   "outputs": [],
   "source": [
    "import pytz \n",
    "\n",
    "pytz.all_timezones"
   ]
  },
  {
   "cell_type": "code",
   "execution_count": null,
   "metadata": {},
   "outputs": [],
   "source": [
    "pred_start_logit, pred_end_logit = F.log_softmax(starts,dim=1), F.log_softmax(ends,dim=1)\n",
    "\n",
    "probs = torch.einsum('ki,kj->kij', pred_start_logit, pred_end_logit)     # outer multiplication -> [batch_size, context_len, contex_len]\n",
    "upper_diag = torch.triu(probs)      #we take only the upper triangular part since the lower one has ends and starts inverted\n",
    "\n",
    "maximum_row, _ = torch.max(upper_diag, dim=2)       #maximum values on row\n",
    "maximum_col, _ = torch.max(upper_diag, dim=1)       #maximum values on columns\n",
    "\n",
    "s_idx = torch.argmax(maximum_row, dim=1)            #row index of maximum per example in batch \n",
    "e_idx = torch.argmax(maximum_col, dim=1)            #column index of maximum per example in batch\n"
   ]
  },
  {
   "cell_type": "code",
   "execution_count": null,
   "metadata": {},
   "outputs": [],
   "source": [
    "starts = torch.tensor([[1.0,2.0,8.0,3.0], [1.0,8.0,2.0,3.0]])\n",
    "ends = torch.tensor([[1.0,2.0,3.0,8.0], [1.0,2.0,8.0,3.0]])\n",
    "print(F.log_softmax(starts,dim=1))\n",
    "print(F.log_softmax(ends,dim=1))\n",
    "pred_start_logit, pred_end_logit = F.log_softmax(starts,dim=1), F.log_softmax(ends,dim=1)\n",
    "probs = torch.einsum('ki,kj->kij', pred_start_logit, pred_end_logit)\n",
    "print(probs)\n",
    "upper_diag = torch.triu(probs)      #we take only the upper triangular part since the lower one has ends and starts inverted\n",
    "print(upper_diag)\n",
    "lower_diag = torch.tril(probs,diagonal=-1) * 1e+10\n",
    "print(lower_diag)\n",
    "res_matrix = torch.add(upper_diag,lower_diag)\n",
    "maximum_row, _ = torch.min(res_matrix, dim=2)       #maximum values on row\n",
    "maximum_col, _ = torch.min(res_matrix, dim=1)       #maximum values on columns\n",
    "print(maximum_row)\n",
    "print(maximum_col)\n",
    "s_idx = torch.argmin(maximum_row, dim=1)            #row index of maximum per example in batch \n",
    "e_idx = torch.argmin(maximum_col, dim=1)            #column index of maximum per example in batch\n",
    "print(s_idx)\n",
    "print(e_idx)"
   ]
  }
 ],
 "metadata": {
  "interpreter": {
   "hash": "9d27d3bb0e70e29a6993d11ced729f39970904d8c590c3a159e115fe96c0c042"
  },
  "kernelspec": {
   "display_name": "Python 3.9.7 64-bit ('squad': conda)",
   "language": "python",
   "name": "python3"
  },
  "language_info": {
   "codemirror_mode": {
    "name": "ipython",
    "version": 3
   },
   "file_extension": ".py",
   "mimetype": "text/x-python",
   "name": "python",
   "nbconvert_exporter": "python",
   "pygments_lexer": "ipython3",
   "version": "3.9.7"
  },
  "orig_nbformat": 4
 },
 "nbformat": 4,
 "nbformat_minor": 2
}
