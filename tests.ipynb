{
 "cells": [
  {
   "cell_type": "code",
   "execution_count": null,
   "metadata": {},
   "outputs": [],
   "source": [
    "import pandas as pd \n",
    "import numpy as np \n",
    "\n",
    "import os \n",
    "import json\n",
    "\n",
    "# from flatten_json import flatten\n"
   ]
  },
  {
   "cell_type": "code",
   "execution_count": null,
   "metadata": {},
   "outputs": [],
   "source": [
    "data_folder = os.path.join(os.getcwd(),\"data\") # directory containing the data\n",
    "\n",
    "dataset_path = os.path.join(data_folder,'training_set.json')"
   ]
  },
  {
   "cell_type": "code",
   "execution_count": null,
   "metadata": {},
   "outputs": [],
   "source": [
    "\n",
    "record_path = ['data','paragraphs','qas','answers']\n",
    "json_file = json.loads(open(dataset_path).read())\n",
    "\n",
    "df = pd.json_normalize(json_file , record_path,meta=[[\"data\", \"title\"]])\n",
    "df_questions = pd.json_normalize(json_file, record_path[:-1],meta=[[\"data\", \"title\"]])\n",
    "df_contexts = pd.json_normalize(json_file,record_path[:-2],meta=[[\"data\", \"title\"]])\n",
    "\n",
    "contexts = np.repeat(df_contexts[\"context\"].values, df_contexts.qas.str.len())\n",
    "contexts = np.repeat(contexts, df_questions[\"answers\"].str.len())\n",
    "df[\"context\"] = contexts\n",
    "df[\"question_id\"] = np.repeat(df_questions[\"id\"].values, df_questions[\"answers\"].str.len())\n",
    "df[\"question\"] = np.repeat(df_questions[\"question\"].values, df_questions[\"answers\"].str.len())\n",
    "df[\"context_id\"] = df[\"context\"].factorize()[0]\n",
    "\n",
    "# Rename columns\n",
    "df.rename(columns={\"data.title\": \"title\", \"text\": \"answer\"}, inplace=True)\n",
    "\n"
   ]
  },
  {
   "cell_type": "code",
   "execution_count": null,
   "metadata": {},
   "outputs": [],
   "source": [
    "df.head()"
   ]
  },
  {
   "cell_type": "code",
   "execution_count": null,
   "metadata": {},
   "outputs": [],
   "source": [
    "df[df['answer'].duplicated()==True]"
   ]
  },
  {
   "cell_type": "code",
   "execution_count": null,
   "metadata": {},
   "outputs": [],
   "source": [
    "any(df.duplicated())"
   ]
  },
  {
   "cell_type": "code",
   "execution_count": null,
   "metadata": {},
   "outputs": [],
   "source": [
    "df2 = df.drop_duplicates()"
   ]
  },
  {
   "cell_type": "code",
   "execution_count": null,
   "metadata": {},
   "outputs": [],
   "source": [
    "df2.equals(df)"
   ]
  },
  {
   "cell_type": "code",
   "execution_count": null,
   "metadata": {},
   "outputs": [],
   "source": [
    "json_file = json.loads(open(dataset_path).read())"
   ]
  },
  {
   "cell_type": "code",
   "execution_count": null,
   "metadata": {},
   "outputs": [],
   "source": [
    "df = pd.json_normalize(json_file,record_path=['data','paragraphs'],meta=[['data','title']])"
   ]
  }
 ],
 "metadata": {
  "interpreter": {
   "hash": "9d27d3bb0e70e29a6993d11ced729f39970904d8c590c3a159e115fe96c0c042"
  },
  "kernelspec": {
   "display_name": "Python 3.9.7 64-bit ('squad': conda)",
   "language": "python",
   "name": "python3"
  },
  "language_info": {
   "codemirror_mode": {
    "name": "ipython",
    "version": 3
   },
   "file_extension": ".py",
   "mimetype": "text/x-python",
   "name": "python",
   "nbconvert_exporter": "python",
   "pygments_lexer": "ipython3",
   "version": "3.9.7"
  },
  "orig_nbformat": 4
 },
 "nbformat": 4,
 "nbformat_minor": 2
}
