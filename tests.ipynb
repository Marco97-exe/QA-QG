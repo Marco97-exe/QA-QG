{
 "cells": [
  {
   "cell_type": "code",
   "execution_count": null,
   "metadata": {},
   "outputs": [],
   "source": [
    "from IPython.core.interactiveshell import InteractiveShell\n",
    "InteractiveShell.ast_node_interactivity = 'all'"
   ]
  },
  {
   "cell_type": "code",
   "execution_count": null,
   "metadata": {},
   "outputs": [],
   "source": [
    "import pandas as pd \n",
    "import numpy as np \n",
    "\n",
    "import os \n",
    "import json\n",
    "\n",
    "# from flatten_json import flatten\n"
   ]
  },
  {
   "cell_type": "code",
   "execution_count": null,
   "metadata": {},
   "outputs": [],
   "source": [
    "data_folder = os.path.join(os.getcwd(),\"data\") # directory containing the data\n",
    "\n",
    "#dataset_path = os.path.join(data_folder,'training_set.json')\n",
    "dataset_path = os.path.join(data_folder,'training_set.json')"
   ]
  },
  {
   "cell_type": "code",
   "execution_count": null,
   "metadata": {},
   "outputs": [],
   "source": [
    "os.path.splitext(dataset_path)[0]"
   ]
  },
  {
   "cell_type": "code",
   "execution_count": null,
   "metadata": {},
   "outputs": [],
   "source": [
    "\n",
    "record_path = ['data','paragraphs','qas','answers']\n",
    "json_file = json.loads(open(dataset_path).read())\n"
   ]
  },
  {
   "cell_type": "code",
   "execution_count": null,
   "metadata": {},
   "outputs": [],
   "source": [
    "pd.json_normalize(json_file,record_path[:-1]).answers.apply(len)==0\n",
    "(pd.json_normalize(json_file,record_path[:-1]).answers.apply(len)== 0).sum()\n"
   ]
  },
  {
   "cell_type": "code",
   "execution_count": null,
   "metadata": {},
   "outputs": [],
   "source": [
    "def with_label():\n",
    "    df = pd.json_normalize(json_file , record_path ,meta=[[\"data\", \"title\"],['data','paragraph','context'],['data','paragraph','qas','question'],['data','paragraph','qas','id']])\n",
    "    \n",
    "    df.rename(columns={\"text\": \"answer\",\"data.paragraph.qas.question\":\"question\",\"data.paragraph.qas.id\":\"id\"}, inplace=True)\n",
    "    \n",
    "    df['answer_end'] = df.answer_start + df.answer.apply(len)\n",
    "\n",
    "    return df \n",
    "\n",
    "def no_label():\n",
    "    df = pd.json_normalize(json_file, record_path[:-1],meta=[[\"data\", \"title\"],['data','paragraph','context']])\n",
    "    if \"answers\" in df.columns:\n",
    "        df = df.drop(\"answers\", axis=\"columns\")\n",
    "\n",
    "    return df "
   ]
  },
  {
   "cell_type": "code",
   "execution_count": null,
   "metadata": {},
   "outputs": [],
   "source": [
    "def to_df():\n",
    "    if (any(pd.json_normalize(json_file,record_path[:-1]).answers.apply(len)== 0)):\n",
    "       \n",
    "        df = no_label()\n",
    "\n",
    "    else : \n",
    "\n",
    "        df = with_label()\n",
    "\n",
    "    df.reset_index(drop=True,inplace=True)\n",
    "    return df \n",
    "    \n",
    "df2 = to_df()\n",
    "\n",
    "df2[\"context_id\"] = df2[\"data.paragraph.context\"].factorize()[0]\n",
    "\n",
    "df2.rename(columns={\"data.title\": \"title\", \"id\":\"question_id\",\"data.paragraph.context\":\"context\"}, inplace=True)"
   ]
  },
  {
   "cell_type": "code",
   "execution_count": null,
   "metadata": {},
   "outputs": [],
   "source": [
    "df2"
   ]
  },
  {
   "cell_type": "code",
   "execution_count": null,
   "metadata": {},
   "outputs": [],
   "source": [
    "columns=['title','context','context_id','question','question_id']\n",
    "\n",
    "not_pres = [col for col in df2.columns if col not in columns]\n",
    "\n",
    "df2 = df2[columns+not_pres]\n",
    "\n",
    "df2"
   ]
  },
  {
   "cell_type": "code",
   "execution_count": null,
   "metadata": {},
   "outputs": [],
   "source": [
    "df2[df2['data.title']=='University_of_Notre_Dame']"
   ]
  },
  {
   "cell_type": "code",
   "execution_count": null,
   "metadata": {},
   "outputs": [],
   "source": [
    "record_path = ['data','paragraphs','qas','answers']\n",
    "json_file = json.loads(open(dataset_path).read())\n",
    "\n",
    "df = pd.json_normalize(json_file , record_path ,meta=[[\"data\", \"title\"]])\n",
    "df_questions = pd.json_normalize(json_file, record_path[:-1],meta=[[\"data\", \"title\"]])\n",
    "df_contexts = pd.json_normalize(json_file,record_path[:-2],meta=[[\"data\", \"title\"]])\n",
    "\n",
    "contexts = np.repeat(df_contexts[\"context\"].values, df_contexts.qas.str.len())\n",
    "contexts = np.repeat(contexts, df_questions[\"answers\"].str.len())\n",
    "df[\"context\"] = contexts\n",
    "df[\"question\"] = np.repeat(df_questions[\"question\"].values, df_questions[\"answers\"].str.len())\n",
    "df[\"question_id\"] = np.repeat(df_questions[\"id\"].values, df_questions[\"answers\"].str.len())\n",
    "\n",
    "df['answer_end'] = df.answer_start + df.text.apply(len)\n",
    "\n",
    "df[\"context_id\"] = df[\"context\"].factorize()[0]\n",
    "\n",
    "# Rename columns\n",
    "df.rename(columns={\"data.title\": \"title\", \"text\": \"answer\"}, inplace=True)\n",
    "\n",
    "df.reset_index(drop=True,inplace=True)\n",
    "\n",
    "\n",
    "\n",
    "df = pd.json_normalize(json_file, record_path = self.JSON_RECORD, meta = [[\"data\", \"title\"]])\n",
    "        df_questions = pd.json_normalize(json_file, record_path = self.JSON_RECORD[:-1], meta = [[\"data\", \"title\"]])\n",
    "        df_contexts = pd.json_normalize(json_file, record_path = self.JSON_RECORD[:-2], meta = [[\"data\", \"title\"]])\n",
    "\n",
    "        contexts = np.repeat(df_contexts[\"context\"].values, df_contexts.qas.str.len())\n",
    "        contexts = np.repeat(contexts, df_questions[\"answers\"].str.len())\n",
    "        df[\"context\"] = contexts\n",
    "        df[\"question_id\"] = np.repeat(df_questions[\"id\"].values, df_questions[\"answers\"].str.len())\n",
    "        df[\"question\"] = np.repeat(df_questions[\"question\"].values, df_questions[\"answers\"].str.len())\n",
    "        df[\"context_id\"] = df[\"context\"].factorize()[0]\n",
    "\n",
    "        # Rename columns\n",
    "        df.rename(columns={\"data.title\": \"title\", \"text\": \"answer\"}, inplace=True)\n",
    "\n",
    "        df = self._add_answer_end(df)\n",
    "\n",
    "        df.reset_index(drop=True,inplace=True)\n",
    "\n",
    "\n"
   ]
  },
  {
   "cell_type": "code",
   "execution_count": null,
   "metadata": {},
   "outputs": [],
   "source": [
    "df.head(5)"
   ]
  },
  {
   "cell_type": "code",
   "execution_count": null,
   "metadata": {},
   "outputs": [],
   "source": [
    "df2.head(5)"
   ]
  },
  {
   "cell_type": "code",
   "execution_count": null,
   "metadata": {},
   "outputs": [],
   "source": [
    "df.equals(df2)"
   ]
  },
  {
   "cell_type": "code",
   "execution_count": null,
   "metadata": {},
   "outputs": [],
   "source": [
    "df[\"context\"].factorize()[0]"
   ]
  },
  {
   "cell_type": "code",
   "execution_count": null,
   "metadata": {},
   "outputs": [],
   "source": [
    "df.head(1)"
   ]
  },
  {
   "cell_type": "code",
   "execution_count": null,
   "metadata": {},
   "outputs": [],
   "source": [
    "s = df.loc[0,'answer_start']\n",
    "e = len(df.loc[0,'answer'])\n",
    "df.loc[0,'context'][s:s+e]\n",
    "\n",
    "s\n",
    "\n",
    "e\n",
    "\n",
    "s+e"
   ]
  },
  {
   "cell_type": "code",
   "execution_count": null,
   "metadata": {},
   "outputs": [],
   "source": [
    "df.answer_start"
   ]
  },
  {
   "cell_type": "code",
   "execution_count": null,
   "metadata": {},
   "outputs": [],
   "source": [
    "df['answer_end'] = df.answer_start + df.answer.apply(len)\n",
    "\n"
   ]
  },
  {
   "cell_type": "code",
   "execution_count": null,
   "metadata": {},
   "outputs": [],
   "source": [
    "df[df['question_id']=='5730bb058ab72b1400f9c72c']"
   ]
  },
  {
   "cell_type": "code",
   "execution_count": null,
   "metadata": {},
   "outputs": [],
   "source": [
    "df[df['answer'].duplicated()==True]"
   ]
  },
  {
   "cell_type": "code",
   "execution_count": null,
   "metadata": {},
   "outputs": [],
   "source": [
    "any(df.duplicated())"
   ]
  },
  {
   "cell_type": "code",
   "execution_count": null,
   "metadata": {},
   "outputs": [],
   "source": [
    "df2 = df.drop_duplicates()"
   ]
  },
  {
   "cell_type": "code",
   "execution_count": null,
   "metadata": {},
   "outputs": [],
   "source": [
    "df2.equals(df)"
   ]
  },
  {
   "cell_type": "code",
   "execution_count": null,
   "metadata": {},
   "outputs": [],
   "source": [
    "json_file = json.loads(open(dataset_path).read())"
   ]
  },
  {
   "cell_type": "code",
   "execution_count": null,
   "metadata": {},
   "outputs": [],
   "source": [
    "df = pd.json_normalize(json_file,record_path=['data','paragraphs'],meta=[['data','title']])"
   ]
  },
  {
   "cell_type": "code",
   "execution_count": null,
   "metadata": {},
   "outputs": [],
   "source": [
    "import lib.data_handling as d\n",
    "\n",
    "dataset = d.Dataset(dataset_path)\n",
    "\n"
   ]
  },
  {
   "cell_type": "code",
   "execution_count": null,
   "metadata": {},
   "outputs": [],
   "source": [
    "dataset.df.head(5)"
   ]
  },
  {
   "cell_type": "code",
   "execution_count": null,
   "metadata": {},
   "outputs": [],
   "source": [
    "dataset.has_labels"
   ]
  }
 ],
 "metadata": {
  "interpreter": {
   "hash": "9d27d3bb0e70e29a6993d11ced729f39970904d8c590c3a159e115fe96c0c042"
  },
  "kernelspec": {
   "display_name": "Python 3.9.7 64-bit ('squad': conda)",
   "language": "python",
   "name": "python3"
  },
  "language_info": {
   "codemirror_mode": {
    "name": "ipython",
    "version": 3
   },
   "file_extension": ".py",
   "mimetype": "text/x-python",
   "name": "python",
   "nbconvert_exporter": "python",
   "pygments_lexer": "ipython3",
   "version": "3.9.7"
  },
  "orig_nbformat": 4
 },
 "nbformat": 4,
 "nbformat_minor": 2
}
